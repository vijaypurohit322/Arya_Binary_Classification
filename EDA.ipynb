{
 "cells": [
  {
   "cell_type": "code",
   "execution_count": 1,
   "id": "175e02f9",
   "metadata": {},
   "outputs": [],
   "source": [
    "import pandas as pd\n",
    "import numpy as np\n",
    "import matplotlib.pyplot as plt\n",
    "import seaborn as sns\n",
    "from sklearn.model_selection import train_test_split\n",
    "from sklearn.ensemble import RandomForestClassifier\n",
    "from sklearn.preprocessing import StandardScaler\n",
    "from sklearn.model_selection import GridSearchCV\n",
    "from sklearn.linear_model import LogisticRegression\n",
    "from sklearn.neighbors import KNeighborsClassifier\n",
    "from sklearn.naive_bayes import GaussianNB\n",
    "from sklearn.tree import DecisionTreeClassifier\n",
    "from xgboost import XGBClassifier\n",
    "from sklearn.metrics import roc_auc_score,classification_report,confusion_matrix,log_loss"
   ]
  },
  {
   "cell_type": "code",
   "execution_count": 2,
   "id": "45e21e70",
   "metadata": {},
   "outputs": [
    {
     "data": {
      "text/html": [
       "<div>\n",
       "<style scoped>\n",
       "    .dataframe tbody tr th:only-of-type {\n",
       "        vertical-align: middle;\n",
       "    }\n",
       "\n",
       "    .dataframe tbody tr th {\n",
       "        vertical-align: top;\n",
       "    }\n",
       "\n",
       "    .dataframe thead th {\n",
       "        text-align: right;\n",
       "    }\n",
       "</style>\n",
       "<table border=\"1\" class=\"dataframe\">\n",
       "  <thead>\n",
       "    <tr style=\"text-align: right;\">\n",
       "      <th></th>\n",
       "      <th>X1</th>\n",
       "      <th>X2</th>\n",
       "      <th>X3</th>\n",
       "      <th>X4</th>\n",
       "      <th>X5</th>\n",
       "      <th>X6</th>\n",
       "      <th>X7</th>\n",
       "      <th>X8</th>\n",
       "      <th>X9</th>\n",
       "      <th>X10</th>\n",
       "      <th>...</th>\n",
       "      <th>X49</th>\n",
       "      <th>X50</th>\n",
       "      <th>X51</th>\n",
       "      <th>X52</th>\n",
       "      <th>X53</th>\n",
       "      <th>X54</th>\n",
       "      <th>X55</th>\n",
       "      <th>X56</th>\n",
       "      <th>X57</th>\n",
       "      <th>Y</th>\n",
       "    </tr>\n",
       "  </thead>\n",
       "  <tbody>\n",
       "    <tr>\n",
       "      <th>0</th>\n",
       "      <td>0.00</td>\n",
       "      <td>0.00</td>\n",
       "      <td>4.34</td>\n",
       "      <td>0.00</td>\n",
       "      <td>0.00</td>\n",
       "      <td>0.00</td>\n",
       "      <td>0.00</td>\n",
       "      <td>0.00</td>\n",
       "      <td>0.0</td>\n",
       "      <td>0.00</td>\n",
       "      <td>...</td>\n",
       "      <td>0.0</td>\n",
       "      <td>0.000</td>\n",
       "      <td>0.0</td>\n",
       "      <td>1.342</td>\n",
       "      <td>0.000</td>\n",
       "      <td>0.000</td>\n",
       "      <td>1.200</td>\n",
       "      <td>2</td>\n",
       "      <td>12</td>\n",
       "      <td>0</td>\n",
       "    </tr>\n",
       "    <tr>\n",
       "      <th>1</th>\n",
       "      <td>0.00</td>\n",
       "      <td>0.56</td>\n",
       "      <td>0.56</td>\n",
       "      <td>0.00</td>\n",
       "      <td>1.12</td>\n",
       "      <td>0.56</td>\n",
       "      <td>2.25</td>\n",
       "      <td>0.00</td>\n",
       "      <td>0.0</td>\n",
       "      <td>0.56</td>\n",
       "      <td>...</td>\n",
       "      <td>0.0</td>\n",
       "      <td>0.083</td>\n",
       "      <td>0.0</td>\n",
       "      <td>0.503</td>\n",
       "      <td>0.000</td>\n",
       "      <td>0.083</td>\n",
       "      <td>16.304</td>\n",
       "      <td>148</td>\n",
       "      <td>375</td>\n",
       "      <td>1</td>\n",
       "    </tr>\n",
       "    <tr>\n",
       "      <th>2</th>\n",
       "      <td>0.00</td>\n",
       "      <td>0.00</td>\n",
       "      <td>0.00</td>\n",
       "      <td>0.00</td>\n",
       "      <td>0.00</td>\n",
       "      <td>0.00</td>\n",
       "      <td>0.00</td>\n",
       "      <td>0.00</td>\n",
       "      <td>0.0</td>\n",
       "      <td>0.00</td>\n",
       "      <td>...</td>\n",
       "      <td>0.0</td>\n",
       "      <td>0.000</td>\n",
       "      <td>0.0</td>\n",
       "      <td>0.000</td>\n",
       "      <td>0.000</td>\n",
       "      <td>0.000</td>\n",
       "      <td>1.000</td>\n",
       "      <td>1</td>\n",
       "      <td>5</td>\n",
       "      <td>0</td>\n",
       "    </tr>\n",
       "    <tr>\n",
       "      <th>3</th>\n",
       "      <td>0.64</td>\n",
       "      <td>0.00</td>\n",
       "      <td>0.64</td>\n",
       "      <td>0.00</td>\n",
       "      <td>1.93</td>\n",
       "      <td>0.00</td>\n",
       "      <td>0.00</td>\n",
       "      <td>0.00</td>\n",
       "      <td>0.0</td>\n",
       "      <td>0.00</td>\n",
       "      <td>...</td>\n",
       "      <td>0.0</td>\n",
       "      <td>0.000</td>\n",
       "      <td>0.0</td>\n",
       "      <td>0.462</td>\n",
       "      <td>0.370</td>\n",
       "      <td>0.000</td>\n",
       "      <td>2.440</td>\n",
       "      <td>22</td>\n",
       "      <td>122</td>\n",
       "      <td>1</td>\n",
       "    </tr>\n",
       "    <tr>\n",
       "      <th>4</th>\n",
       "      <td>0.58</td>\n",
       "      <td>0.00</td>\n",
       "      <td>0.00</td>\n",
       "      <td>35.46</td>\n",
       "      <td>0.58</td>\n",
       "      <td>0.00</td>\n",
       "      <td>0.58</td>\n",
       "      <td>0.58</td>\n",
       "      <td>0.0</td>\n",
       "      <td>0.00</td>\n",
       "      <td>...</td>\n",
       "      <td>0.0</td>\n",
       "      <td>0.000</td>\n",
       "      <td>0.0</td>\n",
       "      <td>0.239</td>\n",
       "      <td>0.239</td>\n",
       "      <td>0.000</td>\n",
       "      <td>3.338</td>\n",
       "      <td>123</td>\n",
       "      <td>207</td>\n",
       "      <td>1</td>\n",
       "    </tr>\n",
       "  </tbody>\n",
       "</table>\n",
       "<p>5 rows × 58 columns</p>\n",
       "</div>"
      ],
      "text/plain": [
       "     X1    X2    X3     X4    X5    X6    X7    X8   X9   X10  ...  X49  \\\n",
       "0  0.00  0.00  4.34   0.00  0.00  0.00  0.00  0.00  0.0  0.00  ...  0.0   \n",
       "1  0.00  0.56  0.56   0.00  1.12  0.56  2.25  0.00  0.0  0.56  ...  0.0   \n",
       "2  0.00  0.00  0.00   0.00  0.00  0.00  0.00  0.00  0.0  0.00  ...  0.0   \n",
       "3  0.64  0.00  0.64   0.00  1.93  0.00  0.00  0.00  0.0  0.00  ...  0.0   \n",
       "4  0.58  0.00  0.00  35.46  0.58  0.00  0.58  0.58  0.0  0.00  ...  0.0   \n",
       "\n",
       "     X50  X51    X52    X53    X54     X55  X56  X57  Y  \n",
       "0  0.000  0.0  1.342  0.000  0.000   1.200    2   12  0  \n",
       "1  0.083  0.0  0.503  0.000  0.083  16.304  148  375  1  \n",
       "2  0.000  0.0  0.000  0.000  0.000   1.000    1    5  0  \n",
       "3  0.000  0.0  0.462  0.370  0.000   2.440   22  122  1  \n",
       "4  0.000  0.0  0.239  0.239  0.000   3.338  123  207  1  \n",
       "\n",
       "[5 rows x 58 columns]"
      ]
     },
     "execution_count": 2,
     "metadata": {},
     "output_type": "execute_result"
    }
   ],
   "source": [
    "# loading the train data\n",
    "df = pd.read_csv('data/training_set.csv',index_col=0)\n",
    "df.head()"
   ]
  },
  {
   "cell_type": "markdown",
   "id": "f9ff9e1c",
   "metadata": {},
   "source": [
    "- Here we have 57 features.\n",
    "- Our Y label is binary in nature."
   ]
  },
  {
   "cell_type": "code",
   "execution_count": 3,
   "id": "dafbae9d",
   "metadata": {},
   "outputs": [
    {
     "data": {
      "text/plain": [
       "(3910, 58)"
      ]
     },
     "execution_count": 3,
     "metadata": {},
     "output_type": "execute_result"
    }
   ],
   "source": [
    "# Checking the shape of the data\n",
    "df.shape"
   ]
  },
  {
   "cell_type": "markdown",
   "id": "6adc8779",
   "metadata": {},
   "source": [
    "# Checking the distribution of Y"
   ]
  },
  {
   "cell_type": "code",
   "execution_count": 4,
   "id": "c29a8397",
   "metadata": {},
   "outputs": [
    {
     "data": {
      "text/plain": [
       "0    0.607673\n",
       "1    0.392327\n",
       "Name: Y, dtype: float64"
      ]
     },
     "execution_count": 4,
     "metadata": {},
     "output_type": "execute_result"
    }
   ],
   "source": [
    "df['Y'].value_counts(normalize=True)"
   ]
  },
  {
   "cell_type": "markdown",
   "id": "10127e71",
   "metadata": {},
   "source": [
    "- We have 60% 0s and only 40% in our dataset."
   ]
  },
  {
   "cell_type": "markdown",
   "id": "65dba02c",
   "metadata": {},
   "source": [
    "# Checking for missing values"
   ]
  },
  {
   "cell_type": "code",
   "execution_count": 5,
   "id": "15859153",
   "metadata": {},
   "outputs": [
    {
     "data": {
      "text/plain": [
       "X1     0\n",
       "X2     0\n",
       "X3     0\n",
       "X4     0\n",
       "X5     0\n",
       "X6     0\n",
       "X7     0\n",
       "X8     0\n",
       "X9     0\n",
       "X10    0\n",
       "X11    0\n",
       "X12    0\n",
       "X13    0\n",
       "X14    0\n",
       "X15    0\n",
       "X16    0\n",
       "X17    0\n",
       "X18    0\n",
       "X19    0\n",
       "X20    0\n",
       "X21    0\n",
       "X22    0\n",
       "X23    0\n",
       "X24    0\n",
       "X25    0\n",
       "X26    0\n",
       "X27    0\n",
       "X28    0\n",
       "X29    0\n",
       "X30    0\n",
       "X31    0\n",
       "X32    0\n",
       "X33    0\n",
       "X34    0\n",
       "X35    0\n",
       "X36    0\n",
       "X37    0\n",
       "X38    0\n",
       "X39    0\n",
       "X40    0\n",
       "X41    0\n",
       "X42    0\n",
       "X43    0\n",
       "X44    0\n",
       "X45    0\n",
       "X46    0\n",
       "X47    0\n",
       "X48    0\n",
       "X49    0\n",
       "X50    0\n",
       "X51    0\n",
       "X52    0\n",
       "X53    0\n",
       "X54    0\n",
       "X55    0\n",
       "X56    0\n",
       "X57    0\n",
       "Y      0\n",
       "dtype: int64"
      ]
     },
     "execution_count": 5,
     "metadata": {},
     "output_type": "execute_result"
    }
   ],
   "source": [
    "df.isnull().sum()"
   ]
  },
  {
   "cell_type": "markdown",
   "id": "3a610460",
   "metadata": {},
   "source": [
    "- We have 0 missing values in our dataset"
   ]
  },
  {
   "cell_type": "code",
   "execution_count": 6,
   "id": "1ffded7d",
   "metadata": {},
   "outputs": [
    {
     "data": {
      "text/html": [
       "<div>\n",
       "<style scoped>\n",
       "    .dataframe tbody tr th:only-of-type {\n",
       "        vertical-align: middle;\n",
       "    }\n",
       "\n",
       "    .dataframe tbody tr th {\n",
       "        vertical-align: top;\n",
       "    }\n",
       "\n",
       "    .dataframe thead th {\n",
       "        text-align: right;\n",
       "    }\n",
       "</style>\n",
       "<table border=\"1\" class=\"dataframe\">\n",
       "  <thead>\n",
       "    <tr style=\"text-align: right;\">\n",
       "      <th></th>\n",
       "      <th>X1</th>\n",
       "      <th>X2</th>\n",
       "      <th>X3</th>\n",
       "      <th>X4</th>\n",
       "      <th>X5</th>\n",
       "      <th>X6</th>\n",
       "      <th>X7</th>\n",
       "      <th>X8</th>\n",
       "      <th>X9</th>\n",
       "      <th>X10</th>\n",
       "      <th>...</th>\n",
       "      <th>X49</th>\n",
       "      <th>X50</th>\n",
       "      <th>X51</th>\n",
       "      <th>X52</th>\n",
       "      <th>X53</th>\n",
       "      <th>X54</th>\n",
       "      <th>X55</th>\n",
       "      <th>X56</th>\n",
       "      <th>X57</th>\n",
       "      <th>Y</th>\n",
       "    </tr>\n",
       "  </thead>\n",
       "  <tbody>\n",
       "    <tr>\n",
       "      <th>count</th>\n",
       "      <td>3910.000000</td>\n",
       "      <td>3910.000000</td>\n",
       "      <td>3910.000000</td>\n",
       "      <td>3910.000000</td>\n",
       "      <td>3910.000000</td>\n",
       "      <td>3910.000000</td>\n",
       "      <td>3910.000000</td>\n",
       "      <td>3910.000000</td>\n",
       "      <td>3910.000000</td>\n",
       "      <td>3910.000000</td>\n",
       "      <td>...</td>\n",
       "      <td>3910.000000</td>\n",
       "      <td>3910.000000</td>\n",
       "      <td>3910.000000</td>\n",
       "      <td>3910.000000</td>\n",
       "      <td>3910.000000</td>\n",
       "      <td>3910.000000</td>\n",
       "      <td>3910.000000</td>\n",
       "      <td>3910.000000</td>\n",
       "      <td>3910.000000</td>\n",
       "      <td>3910.000000</td>\n",
       "    </tr>\n",
       "    <tr>\n",
       "      <th>mean</th>\n",
       "      <td>0.102990</td>\n",
       "      <td>0.206419</td>\n",
       "      <td>0.284419</td>\n",
       "      <td>0.062074</td>\n",
       "      <td>0.311309</td>\n",
       "      <td>0.095974</td>\n",
       "      <td>0.112320</td>\n",
       "      <td>0.106041</td>\n",
       "      <td>0.091146</td>\n",
       "      <td>0.244345</td>\n",
       "      <td>...</td>\n",
       "      <td>0.037493</td>\n",
       "      <td>0.139252</td>\n",
       "      <td>0.015876</td>\n",
       "      <td>0.272971</td>\n",
       "      <td>0.077820</td>\n",
       "      <td>0.043828</td>\n",
       "      <td>5.047150</td>\n",
       "      <td>52.338107</td>\n",
       "      <td>283.059079</td>\n",
       "      <td>0.392327</td>\n",
       "    </tr>\n",
       "    <tr>\n",
       "      <th>std</th>\n",
       "      <td>0.296322</td>\n",
       "      <td>1.253828</td>\n",
       "      <td>0.504352</td>\n",
       "      <td>1.369361</td>\n",
       "      <td>0.656195</td>\n",
       "      <td>0.261455</td>\n",
       "      <td>0.389516</td>\n",
       "      <td>0.398694</td>\n",
       "      <td>0.271417</td>\n",
       "      <td>0.667065</td>\n",
       "      <td>...</td>\n",
       "      <td>0.235054</td>\n",
       "      <td>0.276309</td>\n",
       "      <td>0.083600</td>\n",
       "      <td>0.858634</td>\n",
       "      <td>0.256991</td>\n",
       "      <td>0.452862</td>\n",
       "      <td>31.397035</td>\n",
       "      <td>204.445218</td>\n",
       "      <td>578.339858</td>\n",
       "      <td>0.488331</td>\n",
       "    </tr>\n",
       "    <tr>\n",
       "      <th>min</th>\n",
       "      <td>0.000000</td>\n",
       "      <td>0.000000</td>\n",
       "      <td>0.000000</td>\n",
       "      <td>0.000000</td>\n",
       "      <td>0.000000</td>\n",
       "      <td>0.000000</td>\n",
       "      <td>0.000000</td>\n",
       "      <td>0.000000</td>\n",
       "      <td>0.000000</td>\n",
       "      <td>0.000000</td>\n",
       "      <td>...</td>\n",
       "      <td>0.000000</td>\n",
       "      <td>0.000000</td>\n",
       "      <td>0.000000</td>\n",
       "      <td>0.000000</td>\n",
       "      <td>0.000000</td>\n",
       "      <td>0.000000</td>\n",
       "      <td>1.000000</td>\n",
       "      <td>1.000000</td>\n",
       "      <td>1.000000</td>\n",
       "      <td>0.000000</td>\n",
       "    </tr>\n",
       "    <tr>\n",
       "      <th>25%</th>\n",
       "      <td>0.000000</td>\n",
       "      <td>0.000000</td>\n",
       "      <td>0.000000</td>\n",
       "      <td>0.000000</td>\n",
       "      <td>0.000000</td>\n",
       "      <td>0.000000</td>\n",
       "      <td>0.000000</td>\n",
       "      <td>0.000000</td>\n",
       "      <td>0.000000</td>\n",
       "      <td>0.000000</td>\n",
       "      <td>...</td>\n",
       "      <td>0.000000</td>\n",
       "      <td>0.000000</td>\n",
       "      <td>0.000000</td>\n",
       "      <td>0.000000</td>\n",
       "      <td>0.000000</td>\n",
       "      <td>0.000000</td>\n",
       "      <td>1.580750</td>\n",
       "      <td>6.000000</td>\n",
       "      <td>35.000000</td>\n",
       "      <td>0.000000</td>\n",
       "    </tr>\n",
       "    <tr>\n",
       "      <th>50%</th>\n",
       "      <td>0.000000</td>\n",
       "      <td>0.000000</td>\n",
       "      <td>0.000000</td>\n",
       "      <td>0.000000</td>\n",
       "      <td>0.000000</td>\n",
       "      <td>0.000000</td>\n",
       "      <td>0.000000</td>\n",
       "      <td>0.000000</td>\n",
       "      <td>0.000000</td>\n",
       "      <td>0.000000</td>\n",
       "      <td>...</td>\n",
       "      <td>0.000000</td>\n",
       "      <td>0.066000</td>\n",
       "      <td>0.000000</td>\n",
       "      <td>0.000000</td>\n",
       "      <td>0.000000</td>\n",
       "      <td>0.000000</td>\n",
       "      <td>2.263500</td>\n",
       "      <td>15.000000</td>\n",
       "      <td>94.000000</td>\n",
       "      <td>0.000000</td>\n",
       "    </tr>\n",
       "    <tr>\n",
       "      <th>75%</th>\n",
       "      <td>0.000000</td>\n",
       "      <td>0.000000</td>\n",
       "      <td>0.430000</td>\n",
       "      <td>0.000000</td>\n",
       "      <td>0.387500</td>\n",
       "      <td>0.000000</td>\n",
       "      <td>0.000000</td>\n",
       "      <td>0.000000</td>\n",
       "      <td>0.000000</td>\n",
       "      <td>0.170000</td>\n",
       "      <td>...</td>\n",
       "      <td>0.000000</td>\n",
       "      <td>0.188000</td>\n",
       "      <td>0.000000</td>\n",
       "      <td>0.317250</td>\n",
       "      <td>0.054000</td>\n",
       "      <td>0.000000</td>\n",
       "      <td>3.714000</td>\n",
       "      <td>43.000000</td>\n",
       "      <td>264.000000</td>\n",
       "      <td>1.000000</td>\n",
       "    </tr>\n",
       "    <tr>\n",
       "      <th>max</th>\n",
       "      <td>4.340000</td>\n",
       "      <td>14.280000</td>\n",
       "      <td>4.540000</td>\n",
       "      <td>42.810000</td>\n",
       "      <td>9.090000</td>\n",
       "      <td>3.570000</td>\n",
       "      <td>7.270000</td>\n",
       "      <td>11.110000</td>\n",
       "      <td>3.230000</td>\n",
       "      <td>18.180000</td>\n",
       "      <td>...</td>\n",
       "      <td>4.385000</td>\n",
       "      <td>9.752000</td>\n",
       "      <td>2.777000</td>\n",
       "      <td>32.478000</td>\n",
       "      <td>6.003000</td>\n",
       "      <td>19.829000</td>\n",
       "      <td>1102.500000</td>\n",
       "      <td>9989.000000</td>\n",
       "      <td>10062.000000</td>\n",
       "      <td>1.000000</td>\n",
       "    </tr>\n",
       "  </tbody>\n",
       "</table>\n",
       "<p>8 rows × 58 columns</p>\n",
       "</div>"
      ],
      "text/plain": [
       "                X1           X2           X3           X4           X5  \\\n",
       "count  3910.000000  3910.000000  3910.000000  3910.000000  3910.000000   \n",
       "mean      0.102990     0.206419     0.284419     0.062074     0.311309   \n",
       "std       0.296322     1.253828     0.504352     1.369361     0.656195   \n",
       "min       0.000000     0.000000     0.000000     0.000000     0.000000   \n",
       "25%       0.000000     0.000000     0.000000     0.000000     0.000000   \n",
       "50%       0.000000     0.000000     0.000000     0.000000     0.000000   \n",
       "75%       0.000000     0.000000     0.430000     0.000000     0.387500   \n",
       "max       4.340000    14.280000     4.540000    42.810000     9.090000   \n",
       "\n",
       "                X6           X7           X8           X9          X10  ...  \\\n",
       "count  3910.000000  3910.000000  3910.000000  3910.000000  3910.000000  ...   \n",
       "mean      0.095974     0.112320     0.106041     0.091146     0.244345  ...   \n",
       "std       0.261455     0.389516     0.398694     0.271417     0.667065  ...   \n",
       "min       0.000000     0.000000     0.000000     0.000000     0.000000  ...   \n",
       "25%       0.000000     0.000000     0.000000     0.000000     0.000000  ...   \n",
       "50%       0.000000     0.000000     0.000000     0.000000     0.000000  ...   \n",
       "75%       0.000000     0.000000     0.000000     0.000000     0.170000  ...   \n",
       "max       3.570000     7.270000    11.110000     3.230000    18.180000  ...   \n",
       "\n",
       "               X49          X50          X51          X52          X53  \\\n",
       "count  3910.000000  3910.000000  3910.000000  3910.000000  3910.000000   \n",
       "mean      0.037493     0.139252     0.015876     0.272971     0.077820   \n",
       "std       0.235054     0.276309     0.083600     0.858634     0.256991   \n",
       "min       0.000000     0.000000     0.000000     0.000000     0.000000   \n",
       "25%       0.000000     0.000000     0.000000     0.000000     0.000000   \n",
       "50%       0.000000     0.066000     0.000000     0.000000     0.000000   \n",
       "75%       0.000000     0.188000     0.000000     0.317250     0.054000   \n",
       "max       4.385000     9.752000     2.777000    32.478000     6.003000   \n",
       "\n",
       "               X54          X55          X56           X57            Y  \n",
       "count  3910.000000  3910.000000  3910.000000   3910.000000  3910.000000  \n",
       "mean      0.043828     5.047150    52.338107    283.059079     0.392327  \n",
       "std       0.452862    31.397035   204.445218    578.339858     0.488331  \n",
       "min       0.000000     1.000000     1.000000      1.000000     0.000000  \n",
       "25%       0.000000     1.580750     6.000000     35.000000     0.000000  \n",
       "50%       0.000000     2.263500    15.000000     94.000000     0.000000  \n",
       "75%       0.000000     3.714000    43.000000    264.000000     1.000000  \n",
       "max      19.829000  1102.500000  9989.000000  10062.000000     1.000000  \n",
       "\n",
       "[8 rows x 58 columns]"
      ]
     },
     "execution_count": 6,
     "metadata": {},
     "output_type": "execute_result"
    }
   ],
   "source": [
    "df.describe()"
   ]
  },
  {
   "cell_type": "markdown",
   "id": "6a984869",
   "metadata": {},
   "source": [
    "# Plotting distribution of features"
   ]
  },
  {
   "cell_type": "code",
   "execution_count": 7,
   "id": "420f4868",
   "metadata": {},
   "outputs": [
    {
     "data": {
      "image/png": "[encoded data removed]",
      "text/plain": [
       "<Figure size 720x1800 with 60 Axes>"
      ]
     },
     "metadata": {
      "needs_background": "light"
     },
     "output_type": "display_data"
    }
   ],
   "source": [
    "fig,ax = plt.subplots(nrows=20,ncols=3,figsize=(10,25))\n",
    "j = 0\n",
    "k = 0\n",
    "for i in range(1,58):\n",
    "    if k>2:\n",
    "        k=0\n",
    "        j= j+1\n",
    "    ax[j][k].plot(sorted(df['X'+str(i)]));\n",
    "    k=k+1"
   ]
  },
  {
   "cell_type": "markdown",
   "id": "5d3a0028",
   "metadata": {},
   "source": [
    "- The distributions of all the features are highly skewed. \n",
    "- Maximum values in our features are 0s. i.e. our data is **highly sparse**.\n",
    "- All the features in our dataset are continous."
   ]
  },
  {
   "cell_type": "markdown",
   "id": "cf7757a8",
   "metadata": {},
   "source": [
    "# Splitting into X and y"
   ]
  },
  {
   "cell_type": "code",
   "execution_count": 8,
   "id": "56386434",
   "metadata": {},
   "outputs": [],
   "source": [
    "X = df.drop(['Y'],axis=1)\n",
    "y = df['Y']"
   ]
  },
  {
   "cell_type": "markdown",
   "id": "13b46cce",
   "metadata": {},
   "source": [
    "- Now if we choose Dimensionality reduction then we will lose interpretability here.\n",
    "- And if we choose the feature selection method to extract top important features we can preserve interpretability."
   ]
  },
  {
   "cell_type": "markdown",
   "id": "e40e91b5",
   "metadata": {},
   "source": [
    "# Train Test Split"
   ]
  },
  {
   "cell_type": "markdown",
   "id": "020df2f3",
   "metadata": {},
   "source": [
    "- We want our train and validation set in the ratio of 4:1. \n",
    "- Which means we would have 20% of the data as validation set."
   ]
  },
  {
   "cell_type": "code",
   "execution_count": 9,
   "id": "8c9fd0e6",
   "metadata": {},
   "outputs": [],
   "source": [
    "X_train, X_test, y_train, y_test = train_test_split(X, y, test_size=0.2, stratify=y, random_state=42)"
   ]
  },
  {
   "cell_type": "markdown",
   "id": "09fd428e",
   "metadata": {},
   "source": [
    "# Using RandomForest Classifier for feature Selection"
   ]
  },
  {
   "cell_type": "code",
   "execution_count": 10,
   "id": "52a7ea1f",
   "metadata": {},
   "outputs": [],
   "source": [
    "clf = RandomForestClassifier(100, max_depth=None, n_jobs=-1)\n",
    "clf.fit(X_train,y_train)\n",
    "feature_importance = clf.feature_importances_"
   ]
  },
  {
   "cell_type": "code",
   "execution_count": 11,
   "id": "7ab02e2c",
   "metadata": {},
   "outputs": [
    {
     "data": {
      "image/png": "[encoded data removed]",
      "text/plain": [
       "<Figure size 432x288 with 1 Axes>"
      ]
     },
     "metadata": {
      "needs_background": "light"
     },
     "output_type": "display_data"
    }
   ],
   "source": [
    "x = [x for x in range(X_train.shape[1])]\n",
    "plt.plot(x,feature_importance)\n",
    "plt.xlabel(\"Features\")\n",
    "plt.ylabel(\"FI\")\n",
    "plt.title(\"Feature Importances\")\n",
    "plt.show()"
   ]
  },
  {
   "cell_type": "code",
   "execution_count": 12,
   "id": "e961e5bb",
   "metadata": {},
   "outputs": [
    {
     "name": "stdout",
     "output_type": "stream",
     "text": [
      "Total features having feature importance greater than average are 14\n"
     ]
    }
   ],
   "source": [
    "# Finding total features having greater feature importance than average\n",
    "mean_fi = np.mean(feature_importance)\n",
    "top_fi = len(np.where(feature_importance > mean_fi)[0])\n",
    "print(f'Total features having feature importance greater than average are {top_fi}')"
   ]
  },
  {
   "cell_type": "code",
   "execution_count": 13,
   "id": "722e2de6",
   "metadata": {},
   "outputs": [
    {
     "data": {
      "image/png": "[encoded data removed]",
      "text/plain": [
       "<Figure size 432x288 with 1 Axes>"
      ]
     },
     "metadata": {
      "needs_background": "light"
     },
     "output_type": "display_data"
    }
   ],
   "source": [
    "# CDF Plot of Feature Importance\n",
    "plt.plot(np.cumsum(sorted(feature_importance,reverse=True)))\n",
    "plt.title('CDF of Feature Importance')\n",
    "plt.xlabel('Features')\n",
    "plt.ylabel('Feature Importance');"
   ]
  },
  {
   "cell_type": "markdown",
   "id": "c3a2128d",
   "metadata": {},
   "source": [
    "- From the CDF plot, we tend to infer that 30 feature's importance add upto very near to one."
   ]
  },
  {
   "cell_type": "code",
   "execution_count": 14,
   "id": "14870cf7",
   "metadata": {},
   "outputs": [],
   "source": [
    "# Ranking the features with their respect to feature importances\n",
    "fi = sorted(zip(X.columns,feature_importance),key=lambda x: x[1], reverse=True)\n",
    "# Extracting Top 30 features\n",
    "top_features = [x[0] for x in fi[:30]]"
   ]
  },
  {
   "cell_type": "code",
   "execution_count": 15,
   "id": "84d5a74f",
   "metadata": {},
   "outputs": [],
   "source": [
    "# Selecting the top features from data\n",
    "X_train_dash = X_train[top_features]\n",
    "X_test_dash = X_test[top_features]"
   ]
  },
  {
   "cell_type": "code",
   "execution_count": 16,
   "id": "f22c536f",
   "metadata": {},
   "outputs": [
    {
     "data": {
      "text/plain": [
       "(3128, 30)"
      ]
     },
     "execution_count": 16,
     "metadata": {},
     "output_type": "execute_result"
    }
   ],
   "source": [
    "# Checking the shape of X_train_dash\n",
    "X_train_dash.shape"
   ]
  },
  {
   "cell_type": "code",
   "execution_count": 17,
   "id": "dbbc1b0f",
   "metadata": {},
   "outputs": [
    {
     "data": {
      "text/plain": [
       "(782, 30)"
      ]
     },
     "execution_count": 17,
     "metadata": {},
     "output_type": "execute_result"
    }
   ],
   "source": [
    "# Checking the shape of X_test_dash\n",
    "X_test_dash.shape"
   ]
  },
  {
   "cell_type": "markdown",
   "id": "d8b80446",
   "metadata": {},
   "source": [
    "# Normalizing our data"
   ]
  },
  {
   "cell_type": "code",
   "execution_count": 18,
   "id": "508bb219",
   "metadata": {},
   "outputs": [],
   "source": [
    "# Using StandardScaler to normalize our data\n",
    "scaler = StandardScaler()\n",
    "scaler.fit(X_train_dash)\n",
    "\n",
    "# transform\n",
    "X_train_dash = pd.DataFrame(scaler.transform(X_train_dash),columns=X_train_dash.columns)\n",
    "X_test_dash = pd.DataFrame(scaler.transform(X_test_dash),columns=X_test_dash.columns)"
   ]
  },
  {
   "cell_type": "markdown",
   "id": "7349bd25",
   "metadata": {},
   "source": [
    "# Metrics to consider"
   ]
  },
  {
   "cell_type": "markdown",
   "id": "0fc0adf0",
   "metadata": {},
   "source": [
    "- Since we have binary values in our class labels, so we can choose **Binary Cross Entropy** here.\n",
    "- Also, we can use **AUC score** here.\n",
    "- The class is roughly balance, so we need not need to use metrics like F1 score here."
   ]
  },
  {
   "cell_type": "markdown",
   "id": "37ab9eaf",
   "metadata": {},
   "source": [
    "# Training "
   ]
  },
  {
   "cell_type": "markdown",
   "id": "0360f0a5",
   "metadata": {},
   "source": [
    "Models tried:\n",
    "- Random\n",
    "- KNN\n",
    "- Naive Bayes\n",
    "- Logistic Regression\n",
    "- DecisionTree\n",
    "- Random Forest\n",
    "- xgboost"
   ]
  },
  {
   "cell_type": "markdown",
   "id": "21730c68",
   "metadata": {},
   "source": [
    "# Random Model"
   ]
  },
  {
   "cell_type": "code",
   "execution_count": 19,
   "id": "34afa58b",
   "metadata": {},
   "outputs": [],
   "source": [
    "#y_pred_test = np.random.binomial(1,0.5,size=len(X_test_dash))\n",
    "y_train_prob = np.random.rand(len(X_train_dash))\n",
    "y_test_prob = np.random.rand(len(X_test_dash))"
   ]
  },
  {
   "cell_type": "code",
   "execution_count": 20,
   "id": "ebd97607",
   "metadata": {},
   "outputs": [
    {
     "name": "stdout",
     "output_type": "stream",
     "text": [
      "Train Logloss for the model -> 1.008954452687821\n",
      "Test Logloss for the model -> 0.9704543693463177\n",
      "--------------------------------------------------\n",
      "Train AUC Score for the model -> 0.48470478583956367\n",
      "Test AUC Score for the model -> 0.5059626264357964\n"
     ]
    }
   ],
   "source": [
    "# Calculating logloss score for our model\n",
    "print(f'Train Logloss for the model -> {log_loss(y_train,y_train_prob)}')\n",
    "print(f'Test Logloss for the model -> {log_loss(y_test,y_test_prob)}')\n",
    "\n",
    "print('-'*50)\n",
    "# Calculating the AUC score for our model\n",
    "print(f'Train AUC Score for the model -> {roc_auc_score(y_train, y_train_prob)}')\n",
    "print(f'Test AUC Score for the model -> {roc_auc_score(y_test, y_test_prob)}')"
   ]
  },
  {
   "cell_type": "markdown",
   "id": "fd9153a7",
   "metadata": {},
   "source": [
    "# KNN"
   ]
  },
  {
   "cell_type": "code",
   "execution_count": 21,
   "id": "488023ff",
   "metadata": {},
   "outputs": [
    {
     "data": {
      "text/plain": [
       "GridSearchCV(cv=10, estimator=KNeighborsClassifier(), n_jobs=-1,\n",
       "             param_grid={'n_neighbors': [3, 5, 11, 15, 25, 51, 75]},\n",
       "             return_train_score=True, scoring='roc_auc')"
      ]
     },
     "execution_count": 21,
     "metadata": {},
     "output_type": "execute_result"
    }
   ],
   "source": [
    "estimator = KNeighborsClassifier()\n",
    "parameters = {'n_neighbors':[3,5,11,15,25,51,75]}\n",
    "\n",
    "# Performing GridSearchCV\n",
    "clf = GridSearchCV(estimator, parameters, cv=10, n_jobs=-1, scoring='roc_auc', return_train_score=True)\n",
    "clf.fit(X_train_dash, y_train)"
   ]
  },
  {
   "cell_type": "code",
   "execution_count": 22,
   "id": "2e5757ad",
   "metadata": {},
   "outputs": [
    {
     "data": {
      "image/png": "[encoded data removed]",
      "text/plain": [
       "<Figure size 432x288 with 1 Axes>"
      ]
     },
     "metadata": {
      "needs_background": "light"
     },
     "output_type": "display_data"
    }
   ],
   "source": [
    "# Storing all the results of GridSearchCV in a DataFrame\n",
    "results = pd.DataFrame.from_dict(clf.cv_results_)\n",
    "#results.head()\n",
    "\n",
    "x = list(results['param_n_neighbors'].values)\n",
    "y1 = results['mean_train_score'].values\n",
    "y2 = results['mean_test_score'].values\n",
    "\n",
    "plt.plot(x, y1, label='Train')\n",
    "plt.plot(x, y2, label='CV')\n",
    "plt.legend()\n",
    "plt.xlabel('NN {Hyperparameter}')\n",
    "plt.ylabel('AUC Score')\n",
    "plt.title('Performance of model on train & cv data');"
   ]
  },
  {
   "cell_type": "code",
   "execution_count": 23,
   "id": "54479b75",
   "metadata": {},
   "outputs": [
    {
     "name": "stdout",
     "output_type": "stream",
     "text": [
      "Train Logloss for the model -> 0.24622643998980237\n",
      "Test Logloss for the model -> 0.3296268828033114\n",
      "--------------------------------------------------\n",
      "Train AUC Score for the model -> 0.9641273177116492\n",
      "Test AUC Score for the model -> 0.9481330361734956\n"
     ]
    }
   ],
   "source": [
    "# Using 30-NN for predictions\n",
    "classifier = KNeighborsClassifier(n_neighbors=30) \n",
    "classifier.fit(X_train_dash, y_train)\n",
    "\n",
    "y_train_pred = classifier.predict(X_train_dash)\n",
    "y_train_prob = classifier.predict_proba(X_train_dash)[:,1]\n",
    "y_test_pred = classifier.predict(X_test_dash)\n",
    "y_test_prob = classifier.predict_proba(X_test_dash)[:,1]\n",
    "\n",
    "\n",
    "# Calculating logloss score for our model\n",
    "print(f'Train Logloss for the model -> {log_loss(y_train,y_train_prob)}')\n",
    "print(f'Test Logloss for the model -> {log_loss(y_test,y_test_prob)}')\n",
    "\n",
    "print('-'*50)\n",
    "# Calculating the AUC score for our model\n",
    "print(f'Train AUC Score for the model -> {roc_auc_score(y_train, y_train_prob)}')\n",
    "print(f'Test AUC Score for the model -> {roc_auc_score(y_test, y_test_prob)}')"
   ]
  },
  {
   "cell_type": "markdown",
   "id": "d5ac366c",
   "metadata": {},
   "source": [
    "# Naive Bayes"
   ]
  },
  {
   "cell_type": "code",
   "execution_count": 24,
   "id": "5d83e8d9",
   "metadata": {},
   "outputs": [
    {
     "name": "stdout",
     "output_type": "stream",
     "text": [
      "Train Logloss for the model -> 1.091122567773358\n",
      "Test Logloss for the model -> 1.5132005306443974\n",
      "--------------------------------------------------\n",
      "Train AUC Score for the model -> 0.9606086017439455\n",
      "Test AUC Score for the model -> 0.9424995714040802\n"
     ]
    }
   ],
   "source": [
    "# Using Gaussian Naive Bayes\n",
    "classifier = GaussianNB()\n",
    "classifier.fit(X_train_dash, y_train)\n",
    "\n",
    "y_train_pred = classifier.predict(X_train_dash)\n",
    "y_train_prob = classifier.predict_proba(X_train_dash)[:,1]\n",
    "y_test_pred = classifier.predict(X_test_dash)\n",
    "y_test_prob = classifier.predict_proba(X_test_dash)[:,1]\n",
    "\n",
    "\n",
    "# Calculating logloss score for our model\n",
    "print(f'Train Logloss for the model -> {log_loss(y_train,y_train_prob)}')\n",
    "print(f'Test Logloss for the model -> {log_loss(y_test,y_test_prob)}')\n",
    "\n",
    "print('-'*50)\n",
    "# Calculating the AUC score for our model\n",
    "print(f'Train AUC Score for the model -> {roc_auc_score(y_train, y_train_prob)}')\n",
    "print(f'Test AUC Score for the model -> {roc_auc_score(y_test, y_test_prob)}')"
   ]
  },
  {
   "cell_type": "markdown",
   "id": "89ce8c36",
   "metadata": {},
   "source": [
    "# Logistic Regression"
   ]
  },
  {
   "cell_type": "code",
   "execution_count": 25,
   "id": "93aedcbb",
   "metadata": {},
   "outputs": [
    {
     "data": {
      "text/plain": [
       "GridSearchCV(cv=10, estimator=LogisticRegression(max_iter=250, random_state=42),\n",
       "             n_jobs=-1,\n",
       "             param_grid={'C': [0.0001, 0.001, 0.01, 0.1, 1.0, 10.0, 100.0,\n",
       "                               1000.0, 10000.0]},\n",
       "             return_train_score=True, scoring='neg_log_loss')"
      ]
     },
     "execution_count": 25,
     "metadata": {},
     "output_type": "execute_result"
    }
   ],
   "source": [
    "# Using l2 norm\n",
    "estimator = LogisticRegression(penalty='l2', max_iter=250, random_state=42)\n",
    "parameters = {'C':[1e-4,1e-3,1e-2,1e-1,1e0,1e1,1e2,1e3,1e4]}\n",
    "\n",
    "# Performing GridSearchCV\n",
    "clf = GridSearchCV(estimator, parameters, cv=10, n_jobs=-1, scoring='neg_log_loss', return_train_score=True)\n",
    "clf.fit(X_train_dash, y_train)"
   ]
  },
  {
   "cell_type": "code",
   "execution_count": 26,
   "id": "57235ae1",
   "metadata": {},
   "outputs": [
    {
     "data": {
      "image/png": "[encoded data removed]",
      "text/plain": [
       "<Figure size 432x288 with 1 Axes>"
      ]
     },
     "metadata": {
      "needs_background": "light"
     },
     "output_type": "display_data"
    }
   ],
   "source": [
    "# Storing all the results of GridSearchCV in a DataFrame\n",
    "results = pd.DataFrame.from_dict(clf.cv_results_)\n",
    "#results.head()\n",
    "\n",
    "x = list(map(str,results['param_C'].values))\n",
    "y1 = results['mean_train_score'].values\n",
    "y2 = results['mean_test_score'].values\n",
    "\n",
    "plt.plot(x, y1, label='Train')\n",
    "plt.plot(x, y2, label='CV')\n",
    "plt.legend()\n",
    "plt.xlabel('C {Hyperparameter}')\n",
    "plt.ylabel('Logloss Score')\n",
    "plt.title('Performance of model on train & cv data');"
   ]
  },
  {
   "cell_type": "code",
   "execution_count": 27,
   "id": "fae0b207",
   "metadata": {},
   "outputs": [
    {
     "name": "stdout",
     "output_type": "stream",
     "text": [
      "Train Logloss for the model -> 0.21225000573304453\n",
      "Test Logloss for the model -> 0.3277874734788784\n",
      "--------------------------------------------------\n",
      "Train AUC Score for the model -> 0.9732123143697801\n",
      "Test AUC Score for the model -> 0.9592525287159267\n"
     ]
    }
   ],
   "source": [
    "# Using Logistic Regression with l2 norm\n",
    "classifier = LogisticRegression(C=1, penalty='l2', max_iter=250, random_state=42)\n",
    "classifier.fit(X_train_dash, y_train)\n",
    "\n",
    "y_train_pred = classifier.predict(X_train_dash)\n",
    "y_train_prob = classifier.predict_proba(X_train_dash)[:,1]\n",
    "y_test_pred = classifier.predict(X_test_dash)\n",
    "y_test_prob = classifier.predict_proba(X_test_dash)[:,1]\n",
    "\n",
    "\n",
    "# Calculating logloss score for our model\n",
    "print(f'Train Logloss for the model -> {log_loss(y_train,y_train_prob)}')\n",
    "print(f'Test Logloss for the model -> {log_loss(y_test,y_test_prob)}')\n",
    "\n",
    "print('-'*50)\n",
    "# Calculating the AUC score for our model\n",
    "print(f'Train AUC Score for the model -> {roc_auc_score(y_train, y_train_prob)}')\n",
    "print(f'Test AUC Score for the model -> {roc_auc_score(y_test, y_test_prob)}')"
   ]
  },
  {
   "cell_type": "markdown",
   "id": "192fff9a",
   "metadata": {},
   "source": [
    "# Decision Tree"
   ]
  },
  {
   "cell_type": "code",
   "execution_count": 28,
   "id": "aa123807",
   "metadata": {},
   "outputs": [
    {
     "name": "stdout",
     "output_type": "stream",
     "text": [
      "Train Logloss for the model -> 0.006647831015601489\n",
      "Test Logloss for the model -> 3.143883677469904\n",
      "--------------------------------------------------\n",
      "Train AUC Score for the model -> 0.9999517690470464\n",
      "Test AUC Score for the model -> 0.9016218069603977\n"
     ]
    }
   ],
   "source": [
    "# Using Decision Tree\n",
    "classifier = DecisionTreeClassifier(criterion='gini',min_samples_split=3,random_state=42)\n",
    "classifier.fit(X_train_dash, y_train)\n",
    "\n",
    "y_train_pred = classifier.predict(X_train_dash)\n",
    "y_train_prob = classifier.predict_proba(X_train_dash)[:,1]\n",
    "y_test_pred = classifier.predict(X_test_dash)\n",
    "y_test_prob = classifier.predict_proba(X_test_dash)[:,1]\n",
    "\n",
    "\n",
    "# Calculating logloss score for our model\n",
    "print(f'Train Logloss for the model -> {log_loss(y_train,y_train_prob)}')\n",
    "print(f'Test Logloss for the model -> {log_loss(y_test,y_test_prob)}')\n",
    "\n",
    "print('-'*50)\n",
    "# Calculating the AUC score for our model\n",
    "print(f'Train AUC Score for the model -> {roc_auc_score(y_train, y_train_prob)}')\n",
    "print(f'Test AUC Score for the model -> {roc_auc_score(y_test, y_test_prob)}')"
   ]
  },
  {
   "cell_type": "markdown",
   "id": "959d739b",
   "metadata": {},
   "source": [
    "# Random Forest"
   ]
  },
  {
   "cell_type": "code",
   "execution_count": 29,
   "id": "7b74a527",
   "metadata": {},
   "outputs": [
    {
     "name": "stdout",
     "output_type": "stream",
     "text": [
      "Train Logloss for the model -> 0.043370403811913996\n",
      "Test Logloss for the model -> 0.14426903567611327\n",
      "--------------------------------------------------\n",
      "Train AUC Score for the model -> 0.9999991425608364\n",
      "Test AUC Score for the model -> 0.9930018858220468\n"
     ]
    }
   ],
   "source": [
    "# Using Random Forest\n",
    "classifier = RandomForestClassifier(n_estimators=500,\n",
    "                                      max_depth=None,\n",
    "                                      min_samples_split=2,\n",
    "                                      n_jobs=-1,\n",
    "                                      class_weight='balanced',\n",
    "                                      random_state=42)\n",
    "classifier.fit(X_train_dash, y_train)\n",
    "\n",
    "y_train_pred = classifier.predict(X_train_dash)\n",
    "y_train_prob = classifier.predict_proba(X_train_dash)[:,1]\n",
    "y_test_pred = classifier.predict(X_test_dash)\n",
    "y_test_prob = classifier.predict_proba(X_test_dash)[:,1]\n",
    "\n",
    "\n",
    "# Calculating logloss score for our model\n",
    "print(f'Train Logloss for the model -> {log_loss(y_train,y_train_prob)}')\n",
    "print(f'Test Logloss for the model -> {log_loss(y_test,y_test_prob)}')\n",
    "\n",
    "print('-'*50)\n",
    "# Calculating the AUC score for our model\n",
    "print(f'Train AUC Score for the model -> {roc_auc_score(y_train, y_train_prob)}')\n",
    "print(f'Test AUC Score for the model -> {roc_auc_score(y_test, y_test_prob)}')"
   ]
  },
  {
   "cell_type": "markdown",
   "id": "a36f3087",
   "metadata": {},
   "source": [
    "# Xgboost"
   ]
  },
  {
   "cell_type": "code",
   "execution_count": 30,
   "id": "1bec4065",
   "metadata": {},
   "outputs": [
    {
     "name": "stdout",
     "output_type": "stream",
     "text": [
      "Train Logloss for the model -> 0.14307064312877005\n",
      "Test Logloss for the model -> 0.15659173915300834\n",
      "--------------------------------------------------\n",
      "Train AUC Score for the model -> 0.988952325096344\n",
      "Test AUC Score for the model -> 0.9873889936567805\n"
     ]
    }
   ],
   "source": [
    "# Using Xgboost\n",
    "classifier = XGBClassifier(n_estimators=500,\n",
    "                           max_depth=5,\n",
    "                           learning_rate=0.15,\n",
    "                           colsample_bytree=1,\n",
    "                           subsample=1,\n",
    "                           reg_alpha = 0.3,\n",
    "                           gamma=10,\n",
    "                           n_jobs=-1,\n",
    "                           eval_metric='logloss',\n",
    "                           use_label_encoder=False)\n",
    "\n",
    "classifier.fit(X_train_dash, y_train)\n",
    "\n",
    "y_train_pred = classifier.predict(X_train_dash)\n",
    "y_train_prob = classifier.predict_proba(X_train_dash)[:,1]\n",
    "y_test_pred = classifier.predict(X_test_dash)\n",
    "y_test_prob = classifier.predict_proba(X_test_dash)[:,1]\n",
    "\n",
    "\n",
    "# Calculating logloss score for our model\n",
    "print(f'Train Logloss for the model -> {log_loss(y_train,y_train_prob)}')\n",
    "print(f'Test Logloss for the model -> {log_loss(y_test,y_test_prob)}')\n",
    "\n",
    "print('-'*50)\n",
    "# Calculating the AUC score for our model\n",
    "print(f'Train AUC Score for the model -> {roc_auc_score(y_train, y_train_prob)}')\n",
    "print(f'Test AUC Score for the model -> {roc_auc_score(y_test, y_test_prob)}')"
   ]
  },
  {
   "cell_type": "markdown",
   "id": "8aa8d2e1",
   "metadata": {},
   "source": [
    "# Observations"
   ]
  },
  {
   "cell_type": "markdown",
   "id": "ff326c71",
   "metadata": {},
   "source": [
    "- The Xgboost have the least gap between the train and test logloss.\n",
    "- As we know the divergence between train and test metrics depicts overfitting or underfitting of a model.\n",
    "- Clearly in the Xgboost we don't have any overfitting here. \n",
    "- And Xgboost has least logloss for test data. i.e. Test logloss is 0.154.\n",
    "- So, we will choose **Xgboost** as our classifier here."
   ]
  }
 ],
 "metadata": {
  "kernelspec": {
   "display_name": "Python 3",
   "language": "python",
   "name": "python3"
  },
  "language_info": {
   "codemirror_mode": {
    "name": "ipython",
    "version": 3
   },
   "file_extension": ".py",
   "mimetype": "text/x-python",
   "name": "python",
   "nbconvert_exporter": "python",
   "pygments_lexer": "ipython3",
   "version": "3.8.5"
  }
 },
 "nbformat": 4,
 "nbformat_minor": 5
}
